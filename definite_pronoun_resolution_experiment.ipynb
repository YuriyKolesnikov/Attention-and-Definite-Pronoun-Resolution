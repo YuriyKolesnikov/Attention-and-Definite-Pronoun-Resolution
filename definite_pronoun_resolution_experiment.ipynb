{
  "nbformat": 4,
  "nbformat_minor": 0,
  "metadata": {
    "colab": {
      "name": "definite_pronoun_resolution_experiment.ipynb",
      "provenance": [],
      "collapsed_sections": []
    },
    "kernelspec": {
      "name": "python3",
      "display_name": "Python 3"
    },
    "accelerator": "GPU"
  },
  "cells": [
    {
      "cell_type": "code",
      "metadata": {
        "id": "kPLtE_J--1RK",
        "colab_type": "code",
        "colab": {}
      },
      "source": [
        "# Importing the required dependencies\n",
        "import tensorflow as tf\n",
        "from sklearn.model_selection import train_test_split\n",
        "import os\n",
        "import time\n",
        "import warnings\n",
        "warnings.filterwarnings(\"ignore\")\n",
        "\n",
        "from utils import load_txt_data, data_preprocessing, pairs_source_target, create_dataset\n",
        "from utils import tokenize, load_dataset, convert, convert_str, BLEUscore_test\n",
        "from model_attention import Encoder, Attention, Decoder, loss_function, train_step\n",
        "from model_attention import evaluate, plot_attention, predict"
      ],
      "execution_count": null,
      "outputs": []
    },
    {
      "cell_type": "code",
      "metadata": {
        "id": "UIG8Fauo-udU",
        "colab_type": "code",
        "colab": {
          "base_uri": "https://localhost:8080/",
          "height": 34
        },
        "outputId": "1dcd0f22-e0e8-47b2-b5eb-d581c20de10c"
      },
      "source": [
        "# Downloading data from the network to the file system\n",
        "load_txt_data()"
      ],
      "execution_count": 45,
      "outputs": [
        {
          "output_type": "stream",
          "text": [
            "Downloading dataset\n"
          ],
          "name": "stdout"
        }
      ]
    },
    {
      "cell_type": "code",
      "metadata": {
        "id": "kqlYD8rS-1cD",
        "colab_type": "code",
        "colab": {
          "base_uri": "https://localhost:8080/",
          "height": 34
        },
        "outputId": "7fcdff11-f90e-4c77-c77b-7ec35cd20f15"
      },
      "source": [
        "print(os.listdir())"
      ],
      "execution_count": 46,
      "outputs": [
        {
          "output_type": "stream",
          "text": [
            "['.config', 'training_checkpoints', 'test.c.txt', 'train.c.txt', 'sample_data']\n"
          ],
          "name": "stdout"
        }
      ]
    },
    {
      "cell_type": "code",
      "metadata": {
        "id": "mIasnVok-1e_",
        "colab_type": "code",
        "colab": {
          "base_uri": "https://localhost:8080/",
          "height": 34
        },
        "outputId": "403a38ef-bc8b-4dae-f141-c3d24fee8a05"
      },
      "source": [
        "# loading data from the file system and their preprocessing\n",
        "list_source_target_sents = data_preprocessing()\n",
        "len(list_source_target_sents)"
      ],
      "execution_count": 47,
      "outputs": [
        {
          "output_type": "execute_result",
          "data": {
            "text/plain": [
              "7544"
            ]
          },
          "metadata": {
            "tags": []
          },
          "execution_count": 47
        }
      ]
    },
    {
      "cell_type": "code",
      "metadata": {
        "id": "qK7KCTZ1-1h1",
        "colab_type": "code",
        "colab": {
          "base_uri": "https://localhost:8080/",
          "height": 52
        },
        "outputId": "78558332-52b5-437a-dae2-e815ddea5a5b"
      },
      "source": [
        "# Create pairs: source / target \n",
        "list_source_sent, list_target_sent = pairs_source_target(list_source_target_sents) \n",
        "list_source_sent[5], list_target_sent[5]"
      ],
      "execution_count": 48,
      "outputs": [
        {
          "output_type": "execute_result",
          "data": {
            "text/plain": [
              "('The bus driver yelled at a kid after she broke a window.',\n",
              " 'she The bus driver a kid a kid')"
            ]
          },
          "metadata": {
            "tags": []
          },
          "execution_count": 48
        }
      ]
    },
    {
      "cell_type": "code",
      "metadata": {
        "id": "VtDVavCtCzu8",
        "colab_type": "code",
        "colab": {}
      },
      "source": [
        "# Let's create pairs in the format: [source, target]\n",
        "source_list, target_list = create_dataset(list_source_sent, list_target_sent)"
      ],
      "execution_count": 49,
      "outputs": []
    },
    {
      "cell_type": "code",
      "metadata": {
        "id": "TxnfqVhFCzxs",
        "colab_type": "code",
        "colab": {
          "base_uri": "https://localhost:8080/",
          "height": 52
        },
        "outputId": "af81269f-b8a1-4fdc-b5cd-a0e47636cca1"
      },
      "source": [
        "source_list[0], target_list[0]"
      ],
      "execution_count": 50,
      "outputs": [
        {
          "output_type": "execute_result",
          "data": {
            "text/plain": [
              "('<start> the bee landed on the flower because it had pollen . <end>',\n",
              " '<start> it the bee the flower the flower <end>')"
            ]
          },
          "metadata": {
            "tags": []
          },
          "execution_count": 50
        }
      ]
    },
    {
      "cell_type": "code",
      "metadata": {
        "id": "MsLnRCgbE8sX",
        "colab_type": "code",
        "colab": {}
      },
      "source": [
        "# Let's create the final data and see the sample data\n",
        "input_tensor, target_tensor, inp_seq, targ_seq = load_dataset(list_source_sent, list_target_sent)\n",
        "\n",
        "# Let's see the maximum length of tensors\n",
        "max_length_targ, max_length_inp = target_tensor.shape[1], input_tensor.shape[1]"
      ],
      "execution_count": 51,
      "outputs": []
    },
    {
      "cell_type": "code",
      "metadata": {
        "id": "KOLNgC5HE8vM",
        "colab_type": "code",
        "colab": {
          "base_uri": "https://localhost:8080/",
          "height": 121
        },
        "outputId": "c7ebd7c9-5054-4839-aeb7-ba42372b09a3"
      },
      "source": [
        "input_tensor[0], target_tensor[0]"
      ],
      "execution_count": 52,
      "outputs": [
        {
          "output_type": "execute_result",
          "data": {
            "text/plain": [
              "(array([   3,    1, 1471, 1472,   28,    1, 1473,    6,   15,   30, 1474,\n",
              "           2,    4,    0,    0,    0,    0,    0,    0,    0,    0,    0,\n",
              "           0,    0,    0,    0,    0,    0,    0,    0,    0,    0,    0,\n",
              "           0,    0,    0,    0,    0,    0], dtype=int32),\n",
              " array([  2,   6,   1, 425,   1, 426,   1, 426,   3,   0,   0,   0,   0,\n",
              "          0,   0,   0,   0,   0,   0,   0], dtype=int32))"
            ]
          },
          "metadata": {
            "tags": []
          },
          "execution_count": 52
        }
      ]
    },
    {
      "cell_type": "code",
      "metadata": {
        "id": "1FNOnhcyE8yS",
        "colab_type": "code",
        "colab": {
          "base_uri": "https://localhost:8080/",
          "height": 34
        },
        "outputId": "c075783c-5197-4275-b0d4-35fb151974ee"
      },
      "source": [
        "max_length_targ, max_length_inp"
      ],
      "execution_count": 53,
      "outputs": [
        {
          "output_type": "execute_result",
          "data": {
            "text/plain": [
              "(20, 39)"
            ]
          },
          "metadata": {
            "tags": []
          },
          "execution_count": 53
        }
      ]
    },
    {
      "cell_type": "code",
      "metadata": {
        "id": "1BJk2VqkGYhh",
        "colab_type": "code",
        "colab": {
          "base_uri": "https://localhost:8080/",
          "height": 449
        },
        "outputId": "b2c46181-b179-449e-f794-99c1f2a14a52"
      },
      "source": [
        "# Map indices to words\n",
        "print (\"Input sequence; index to word mapping\")\n",
        "convert(inp_seq, input_tensor[0])\n",
        "print ()\n",
        "print (\"Target sequence; index to word mapping\")\n",
        "convert(targ_seq, target_tensor[0])"
      ],
      "execution_count": 54,
      "outputs": [
        {
          "output_type": "stream",
          "text": [
            "Input sequence; index to word mapping\n",
            "3 ----> <start>\n",
            "1 ----> the\n",
            "1471 ----> bee\n",
            "1472 ----> landed\n",
            "28 ----> on\n",
            "1 ----> the\n",
            "1473 ----> flower\n",
            "6 ----> because\n",
            "15 ----> it\n",
            "30 ----> had\n",
            "1474 ----> pollen\n",
            "2 ----> .\n",
            "4 ----> <end>\n",
            "\n",
            "Target sequence; index to word mapping\n",
            "2 ----> <start>\n",
            "6 ----> it\n",
            "1 ----> the\n",
            "425 ----> bee\n",
            "1 ----> the\n",
            "426 ----> flower\n",
            "1 ----> the\n",
            "426 ----> flower\n",
            "3 ----> <end>\n"
          ],
          "name": "stdout"
        }
      ]
    },
    {
      "cell_type": "code",
      "metadata": {
        "id": "BBXxPvH2GYug",
        "colab_type": "code",
        "colab": {
          "base_uri": "https://localhost:8080/",
          "height": 34
        },
        "outputId": "7f55638c-de1a-4ff3-dac8-ccdc2c84fd93"
      },
      "source": [
        "# Let's create training and test datasets\n",
        "input_tensor_train, input_tensor_val, target_tensor_train, target_tensor_val = train_test_split(\n",
        "    input_tensor, target_tensor, test_size=0.1)\n",
        "\n",
        "# Let's see the dimensions\n",
        "print(len(input_tensor_train), len(target_tensor_train), len(input_tensor_val), len(target_tensor_val))"
      ],
      "execution_count": 55,
      "outputs": [
        {
          "output_type": "stream",
          "text": [
            "1697 1697 189 189\n"
          ],
          "name": "stdout"
        }
      ]
    },
    {
      "cell_type": "code",
      "metadata": {
        "id": "8groC7P-GYxU",
        "colab_type": "code",
        "colab": {
          "base_uri": "https://localhost:8080/",
          "height": 86
        },
        "outputId": "4176aca0-fc11-4f26-bb10-1a30308295c4"
      },
      "source": [
        "input_tensor_val[0]"
      ],
      "execution_count": 56,
      "outputs": [
        {
          "output_type": "execute_result",
          "data": {
            "text/plain": [
              "array([  3, 534, 111, 293,   6,   8, 134, 839,  60, 294,   2,   4,   0,\n",
              "         0,   0,   0,   0,   0,   0,   0,   0,   0,   0,   0,   0,   0,\n",
              "         0,   0,   0,   0,   0,   0,   0,   0,   0,   0,   0,   0,   0],\n",
              "      dtype=int32)"
            ]
          },
          "metadata": {
            "tags": []
          },
          "execution_count": 56
        }
      ]
    },
    {
      "cell_type": "code",
      "metadata": {
        "id": "J2FoXIWzGY0A",
        "colab_type": "code",
        "colab": {
          "base_uri": "https://localhost:8080/",
          "height": 52
        },
        "outputId": "1dc6d946-badf-4c70-8446-3dff410e5e29"
      },
      "source": [
        "target_tensor_val[0]"
      ],
      "execution_count": 57,
      "outputs": [
        {
          "output_type": "execute_result",
          "data": {
            "text/plain": [
              "array([  2,   5, 132,  69, 132,   3,   0,   0,   0,   0,   0,   0,   0,\n",
              "         0,   0,   0,   0,   0,   0,   0], dtype=int32)"
            ]
          },
          "metadata": {
            "tags": []
          },
          "execution_count": 57
        }
      ]
    },
    {
      "cell_type": "code",
      "metadata": {
        "id": "SYfFvPT_GY26",
        "colab_type": "code",
        "colab": {
          "base_uri": "https://localhost:8080/",
          "height": 34
        },
        "outputId": "f2e6a70a-f562-41e9-a632-f5d8c3a19737"
      },
      "source": [
        "# Convert a tensor to a sentence\n",
        "conv_str = convert_str(inp_seq, input_tensor_val[0])\n",
        "conv_str"
      ],
      "execution_count": 58,
      "outputs": [
        {
          "output_type": "execute_result",
          "data": {
            "application/vnd.google.colaboratory.intrinsic+json": {
              "type": "string"
            },
            "text/plain": [
              "' robert fired chris because he no longer needed workers .  '"
            ]
          },
          "metadata": {
            "tags": []
          },
          "execution_count": 58
        }
      ]
    },
    {
      "cell_type": "code",
      "metadata": {
        "id": "r2OYzzVZE81N",
        "colab_type": "code",
        "colab": {}
      },
      "source": [
        "# Create tf.data dataset and hyperparameters\n",
        "BUFFER_SIZE = len(input_tensor_train)\n",
        "BATCH_SIZE = 16\n",
        "steps_per_epoch = len(input_tensor_train)//BATCH_SIZE\n",
        "embedding_dim = 256\n",
        "units = 1024\n",
        "attention_units = 10\n",
        "vocab_inp_size = len(inp_seq.word_index)+1\n",
        "vocab_tar_size = len(targ_seq.word_index)+1\n",
        "\n",
        "dataset = tf.data.Dataset.from_tensor_slices((input_tensor_train, target_tensor_train)).shuffle(BUFFER_SIZE)\n",
        "dataset = dataset.batch(BATCH_SIZE, drop_remainder=True)"
      ],
      "execution_count": 60,
      "outputs": []
    },
    {
      "cell_type": "code",
      "metadata": {
        "id": "FoLCSQyxHW0N",
        "colab_type": "code",
        "colab": {
          "base_uri": "https://localhost:8080/",
          "height": 34
        },
        "outputId": "5f28f996-7ffa-48cc-8e69-9c2bcc312d2a"
      },
      "source": [
        "example_input_batch, example_target_batch = next(iter(dataset))\n",
        "example_input_batch.shape, example_target_batch.shape"
      ],
      "execution_count": 61,
      "outputs": [
        {
          "output_type": "execute_result",
          "data": {
            "text/plain": [
              "(TensorShape([16, 39]), TensorShape([16, 20]))"
            ]
          },
          "metadata": {
            "tags": []
          },
          "execution_count": 61
        }
      ]
    },
    {
      "cell_type": "code",
      "metadata": {
        "id": "36jyXq6mHW23",
        "colab_type": "code",
        "colab": {
          "base_uri": "https://localhost:8080/",
          "height": 52
        },
        "outputId": "1d320542-0dfa-4f71-b1e7-78ce1d9b7e6c"
      },
      "source": [
        "# Initializing the encoder\n",
        "encoder = Encoder(vocab_inp_size, embedding_dim, units, BATCH_SIZE)\n",
        "\n",
        "# Encoder Output and Hidden State Sizes\n",
        "sample_hidden = encoder.initialize_hidden_state()\n",
        "sample_output, sample_hidden = encoder(example_input_batch, sample_hidden)\n",
        "print ('Encoder output shape: (batch size, sequence length, units) {}'.format(sample_output.shape))\n",
        "print ('Encoder Hidden state shape: (batch size, units) {}'.format(sample_hidden.shape))"
      ],
      "execution_count": 62,
      "outputs": [
        {
          "output_type": "stream",
          "text": [
            "Encoder output shape: (batch size, sequence length, units) (16, 39, 1024)\n",
            "Encoder Hidden state shape: (batch size, units) (16, 1024)\n"
          ],
          "name": "stdout"
        }
      ]
    },
    {
      "cell_type": "code",
      "metadata": {
        "id": "qUnUyfW-HW6G",
        "colab_type": "code",
        "colab": {
          "base_uri": "https://localhost:8080/",
          "height": 52
        },
        "outputId": "2f899adc-f377-490c-835b-65a364a4b798"
      },
      "source": [
        "# Initializing Attention\n",
        "attention_layer = Attention(attention_units)\n",
        "attention_result, attention_weights = attention_layer(sample_hidden, sample_output)\n",
        "\n",
        "print(\"Attention result shape: (batch size, units) {}\".format(attention_result.shape))\n",
        "print(\"Attention weights shape: (batch_size, sequence_length, 1) {}\".format(attention_weights.shape))"
      ],
      "execution_count": 63,
      "outputs": [
        {
          "output_type": "stream",
          "text": [
            "Attention result shape: (batch size, units) (16, 1024)\n",
            "Attention weights shape: (batch_size, sequence_length, 1) (16, 39, 1)\n"
          ],
          "name": "stdout"
        }
      ]
    },
    {
      "cell_type": "code",
      "metadata": {
        "id": "A5xGHj2jIj7Z",
        "colab_type": "code",
        "colab": {
          "base_uri": "https://localhost:8080/",
          "height": 34
        },
        "outputId": "ada72f26-fcde-4e89-8428-43629206e194"
      },
      "source": [
        "# decoder initialization\n",
        "decoder = Decoder(vocab_tar_size, embedding_dim, units, BATCH_SIZE)\n",
        "\n",
        "sample_decoder_output, _, _ = decoder(tf.random.uniform((BATCH_SIZE, 1)),\n",
        "                                      sample_hidden, sample_output)\n",
        "\n",
        "print ('Decoder output shape: (batch_size, vocab size) {}'.format(sample_decoder_output.shape))"
      ],
      "execution_count": 64,
      "outputs": [
        {
          "output_type": "stream",
          "text": [
            "Decoder output shape: (batch_size, vocab size) (16, 1448)\n"
          ],
          "name": "stdout"
        }
      ]
    },
    {
      "cell_type": "code",
      "metadata": {
        "id": "hkezaSpvIj-F",
        "colab_type": "code",
        "colab": {}
      },
      "source": [
        "# Defining an optimizer and a loss function\n",
        "learning_rate=0.001  # 0.00025\n",
        "optimizer = tf.keras.optimizers.Adam(learning_rate=learning_rate)\n",
        "\n",
        "loss_object = tf.keras.losses.SparseCategoricalCrossentropy(\n",
        "    from_logits=True, reduction='none')"
      ],
      "execution_count": 65,
      "outputs": []
    },
    {
      "cell_type": "code",
      "metadata": {
        "id": "BzAemxag-nhF",
        "colab_type": "code",
        "colab": {}
      },
      "source": [
        "# Save model breakpoints\n",
        "checkpoint_dir = './training_checkpoints'\n",
        "checkpoint_prefix = os.path.join(checkpoint_dir, \"ckpt\")\n",
        "checkpoint = tf.train.Checkpoint(optimizer=optimizer,\n",
        "                                 encoder=encoder,\n",
        "                                 decoder=decoder)"
      ],
      "execution_count": 66,
      "outputs": []
    },
    {
      "cell_type": "code",
      "metadata": {
        "id": "vsTvbBOz-nnd",
        "colab_type": "code",
        "colab": {
          "base_uri": "https://localhost:8080/",
          "height": 1000
        },
        "outputId": "4e4b51e3-6729-47ab-9332-feaf177406a6"
      },
      "source": [
        "# Model training\n",
        "EPOCHS = 20 \n",
        "\n",
        "for epoch in range(EPOCHS):\n",
        "    start = time.time()\n",
        "\n",
        "    enc_hidden = encoder.initialize_hidden_state()\n",
        "    total_loss = 0\n",
        "\n",
        "    for (batch, (inp, targ)) in enumerate(dataset.take(steps_per_epoch)):\n",
        "    \n",
        "        batch_loss = train_step(inp, targ, enc_hidden)\n",
        "        total_loss += batch_loss\n",
        "\n",
        "        if batch % 50 == 0:\n",
        "            print('Epoch {} Batch {} Loss {:.4f}'.format(epoch + 1,\n",
        "                                                       batch,\n",
        "                                                       batch_loss.numpy()))\n",
        "    # Сохраним модель каждые 10 эпох\n",
        "    if (epoch + 1) % 10 == 0:\n",
        "        checkpoint.save(file_prefix = checkpoint_prefix)\n",
        "\n",
        "    print('Epoch {} Loss {:.4f}'.format(epoch + 1,\n",
        "                                      total_loss / steps_per_epoch))\n",
        "    print('Time taken for 1 epoch {} sec\\n'.format(time.time() - start))"
      ],
      "execution_count": 67,
      "outputs": [
        {
          "output_type": "stream",
          "text": [
            "Epoch 1 Batch 0 Loss 2.3426\n",
            "Epoch 1 Batch 50 Loss 1.6743\n",
            "Epoch 1 Batch 100 Loss 2.1039\n",
            "Epoch 1 Loss 1.9244\n",
            "Time taken for 1 epoch 50.74118995666504 sec\n",
            "\n",
            "Epoch 2 Batch 0 Loss 1.5458\n",
            "Epoch 2 Batch 50 Loss 1.8589\n",
            "Epoch 2 Batch 100 Loss 1.3676\n",
            "Epoch 2 Loss 1.6001\n",
            "Time taken for 1 epoch 26.012818098068237 sec\n",
            "\n",
            "Epoch 3 Batch 0 Loss 1.3592\n",
            "Epoch 3 Batch 50 Loss 1.5751\n",
            "Epoch 3 Batch 100 Loss 1.3717\n",
            "Epoch 3 Loss 1.4258\n",
            "Time taken for 1 epoch 25.982136249542236 sec\n",
            "\n",
            "Epoch 4 Batch 0 Loss 1.2795\n",
            "Epoch 4 Batch 50 Loss 1.2334\n",
            "Epoch 4 Batch 100 Loss 1.1049\n",
            "Epoch 4 Loss 1.2539\n",
            "Time taken for 1 epoch 25.978865146636963 sec\n",
            "\n",
            "Epoch 5 Batch 0 Loss 1.2782\n",
            "Epoch 5 Batch 50 Loss 1.0383\n",
            "Epoch 5 Batch 100 Loss 0.9819\n",
            "Epoch 5 Loss 1.0994\n",
            "Time taken for 1 epoch 25.92420983314514 sec\n",
            "\n",
            "Epoch 6 Batch 0 Loss 0.8820\n",
            "Epoch 6 Batch 50 Loss 0.9929\n",
            "Epoch 6 Batch 100 Loss 0.6793\n",
            "Epoch 6 Loss 0.9292\n",
            "Time taken for 1 epoch 25.98442244529724 sec\n",
            "\n",
            "Epoch 7 Batch 0 Loss 0.7065\n",
            "Epoch 7 Batch 50 Loss 0.7644\n",
            "Epoch 7 Batch 100 Loss 0.6973\n",
            "Epoch 7 Loss 0.7456\n",
            "Time taken for 1 epoch 25.898935556411743 sec\n",
            "\n",
            "Epoch 8 Batch 0 Loss 0.4383\n",
            "Epoch 8 Batch 50 Loss 0.5720\n",
            "Epoch 8 Batch 100 Loss 0.4993\n",
            "Epoch 8 Loss 0.5512\n",
            "Time taken for 1 epoch 26.013758897781372 sec\n",
            "\n",
            "Epoch 9 Batch 0 Loss 0.3423\n",
            "Epoch 9 Batch 50 Loss 0.4084\n",
            "Epoch 9 Batch 100 Loss 0.3385\n",
            "Epoch 9 Loss 0.3901\n",
            "Time taken for 1 epoch 25.979057550430298 sec\n",
            "\n",
            "Epoch 10 Batch 0 Loss 0.3184\n",
            "Epoch 10 Batch 50 Loss 0.2636\n",
            "Epoch 10 Batch 100 Loss 0.2970\n",
            "Epoch 10 Loss 0.2795\n",
            "Time taken for 1 epoch 26.569413900375366 sec\n",
            "\n",
            "Epoch 11 Batch 0 Loss 0.1634\n",
            "Epoch 11 Batch 50 Loss 0.1812\n",
            "Epoch 11 Batch 100 Loss 0.2284\n",
            "Epoch 11 Loss 0.2206\n",
            "Time taken for 1 epoch 26.09160089492798 sec\n",
            "\n",
            "Epoch 12 Batch 0 Loss 0.1227\n",
            "Epoch 12 Batch 50 Loss 0.1871\n",
            "Epoch 12 Batch 100 Loss 0.1939\n",
            "Epoch 12 Loss 0.1704\n",
            "Time taken for 1 epoch 25.996711492538452 sec\n",
            "\n",
            "Epoch 13 Batch 0 Loss 0.1002\n",
            "Epoch 13 Batch 50 Loss 0.1210\n",
            "Epoch 13 Batch 100 Loss 0.1219\n",
            "Epoch 13 Loss 0.1361\n",
            "Time taken for 1 epoch 26.093440055847168 sec\n",
            "\n",
            "Epoch 14 Batch 0 Loss 0.1021\n",
            "Epoch 14 Batch 50 Loss 0.2225\n",
            "Epoch 14 Batch 100 Loss 0.1003\n",
            "Epoch 14 Loss 0.1179\n",
            "Time taken for 1 epoch 26.06746196746826 sec\n",
            "\n",
            "Epoch 15 Batch 0 Loss 0.0949\n",
            "Epoch 15 Batch 50 Loss 0.1090\n",
            "Epoch 15 Batch 100 Loss 0.1064\n",
            "Epoch 15 Loss 0.0944\n",
            "Time taken for 1 epoch 25.997209787368774 sec\n",
            "\n",
            "Epoch 16 Batch 0 Loss 0.0792\n",
            "Epoch 16 Batch 50 Loss 0.1376\n",
            "Epoch 16 Batch 100 Loss 0.0930\n",
            "Epoch 16 Loss 0.1023\n",
            "Time taken for 1 epoch 26.0143039226532 sec\n",
            "\n",
            "Epoch 17 Batch 0 Loss 0.0450\n",
            "Epoch 17 Batch 50 Loss 0.1052\n",
            "Epoch 17 Batch 100 Loss 0.1109\n",
            "Epoch 17 Loss 0.0760\n",
            "Time taken for 1 epoch 25.96052050590515 sec\n",
            "\n",
            "Epoch 18 Batch 0 Loss 0.0500\n",
            "Epoch 18 Batch 50 Loss 0.0520\n",
            "Epoch 18 Batch 100 Loss 0.0573\n",
            "Epoch 18 Loss 0.0618\n",
            "Time taken for 1 epoch 26.146538496017456 sec\n",
            "\n",
            "Epoch 19 Batch 0 Loss 0.0217\n",
            "Epoch 19 Batch 50 Loss 0.0500\n",
            "Epoch 19 Batch 100 Loss 0.0444\n",
            "Epoch 19 Loss 0.0480\n",
            "Time taken for 1 epoch 26.060776233673096 sec\n",
            "\n",
            "Epoch 20 Batch 0 Loss 0.0434\n",
            "Epoch 20 Batch 50 Loss 0.0477\n",
            "Epoch 20 Batch 100 Loss 0.0394\n",
            "Epoch 20 Loss 0.0414\n",
            "Time taken for 1 epoch 26.4109148979187 sec\n",
            "\n"
          ],
          "name": "stdout"
        }
      ]
    },
    {
      "cell_type": "code",
      "metadata": {
        "id": "24PJA4hu-ntv",
        "colab_type": "code",
        "colab": {}
      },
      "source": [
        "# Restoring the last checkpoint\n",
        "checkpoint.restore(tf.train.latest_checkpoint(checkpoint_dir))"
      ],
      "execution_count": null,
      "outputs": []
    },
    {
      "cell_type": "code",
      "metadata": {
        "id": "-qeJgaf8IkA2",
        "colab_type": "code",
        "colab": {
          "base_uri": "https://localhost:8080/",
          "height": 470
        },
        "outputId": "673398b5-e291-4813-e2ff-92fda692cc45"
      },
      "source": [
        "# Correct sequence of 2nd, 3rd, 4th lines:\n",
        "# they\n",
        "# Lions,zebras\n",
        "# zebras\n",
        "predicted = predict(u\"Lions eat zebras because they are meaty.\")"
      ],
      "execution_count": 27,
      "outputs": [
        {
          "output_type": "stream",
          "text": [
            "Input: <start> lions eat zebras because they are meaty . <end>\n",
            "Predicted: they lions zebras zebras <end> \n"
          ],
          "name": "stdout"
        },
        {
          "output_type": "display_data",
          "data": {
            "image/png": "[encoded data removed]",
            "text/plain": [
              "<Figure size 720x720 with 1 Axes>"
            ]
          },
          "metadata": {
            "tags": [],
            "needs_background": "light"
          }
        }
      ]
    },
    {
      "cell_type": "code",
      "metadata": {
        "id": "jSF2zsVbB7Q7",
        "colab_type": "code",
        "colab": {
          "base_uri": "https://localhost:8080/",
          "height": 475
        },
        "outputId": "028a4357-e712-4fed-cb5c-3a9677ac33a0"
      },
      "source": [
        "predicted = predict(u\"John hired Bill because he needed someone.\")"
      ],
      "execution_count": 28,
      "outputs": [
        {
          "output_type": "stream",
          "text": [
            "Input: <start> john hired bill because he needed someone . <end>\n",
            "Predicted: he john bill john <end> \n"
          ],
          "name": "stdout"
        },
        {
          "output_type": "display_data",
          "data": {
            "image/png": "[encoded data removed]",
            "text/plain": [
              "<Figure size 720x720 with 1 Axes>"
            ]
          },
          "metadata": {
            "tags": [],
            "needs_background": "light"
          }
        }
      ]
    },
    {
      "cell_type": "code",
      "metadata": {
        "id": "C1HVn42KB7Vu",
        "colab_type": "code",
        "colab": {
          "base_uri": "https://localhost:8080/",
          "height": 397
        },
        "outputId": "dea2866a-0601-48fe-9a19-2d48d249a24c"
      },
      "source": [
        "print(f'True target: {convert_str(targ_seq, target_tensor_val[55])}')\n",
        "predicted = predict(convert_str(inp_seq, input_tensor_val[55]))"
      ],
      "execution_count": 30,
      "outputs": [
        {
          "output_type": "stream",
          "text": [
            "True target:  his randy nick randy  \n",
            "Input: <start> randy went to nick s store , and bought his groceries . <end>\n",
            "Predicted: his randy nick nick <end> \n"
          ],
          "name": "stdout"
        },
        {
          "output_type": "display_data",
          "data": {
            "image/png": "[encoded data removed]",
            "text/plain": [
              "<Figure size 720x720 with 1 Axes>"
            ]
          },
          "metadata": {
            "tags": [],
            "needs_background": "light"
          }
        }
      ]
    },
    {
      "cell_type": "code",
      "metadata": {
        "id": "MFw3UObqB7cv",
        "colab_type": "code",
        "colab": {
          "base_uri": "https://localhost:8080/",
          "height": 34
        },
        "outputId": "10759258-4040-491e-dc8a-2ffc8ee2787e"
      },
      "source": [
        "# The quality of the model's performance on test data that the model has never seen\n",
        "BLEU = BLEUscore_test(inp_seq, targ_seq, input_tensor_val, target_tensor_val)\n",
        "print(f'BLEU Score = {BLEU}')"
      ],
      "execution_count": 68,
      "outputs": [
        {
          "output_type": "stream",
          "text": [
            "BLEU Score = 0.6514762783227631\n"
          ],
          "name": "stdout"
        }
      ]
    },
    {
      "cell_type": "code",
      "metadata": {
        "id": "cMSgYS3E-1kx",
        "colab_type": "code",
        "colab": {}
      },
      "source": [
        ""
      ],
      "execution_count": null,
      "outputs": []
    }
  ]
}