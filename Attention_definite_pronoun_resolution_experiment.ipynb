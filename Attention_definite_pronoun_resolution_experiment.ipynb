{
  "nbformat": 4,
  "nbformat_minor": 0,
  "metadata": {
    "colab": {
      "name": "definite_pronoun_resolution_experiment.ipynb",
      "provenance": [],
      "collapsed_sections": []
    },
    "kernelspec": {
      "name": "python3",
      "display_name": "Python 3"
    },
    "accelerator": "GPU"
  },
  "cells": [
    {
      "cell_type": "code",
      "metadata": {
        "id": "R0ro1mMY7VU2",
        "outputId": "af49804a-dabf-41f7-afdb-5d72932fc056",
        "colab": {
          "base_uri": "https://localhost:8080/",
          "height": 173
        }
      },
      "source": [
        "# Install the package for loading data into the file system\n",
        "!pip install wget"
      ],
      "execution_count": 1,
      "outputs": [
        {
          "output_type": "stream",
          "text": [
            "Collecting wget\n",
            "  Downloading https://files.pythonhosted.org/packages/47/6a/62e288da7bcda82b935ff0c6cfe542970f04e29c756b0e147251b2fb251f/wget-3.2.zip\n",
            "Building wheels for collected packages: wget\n",
            "  Building wheel for wget (setup.py) ... \u001b[?25l\u001b[?25hdone\n",
            "  Created wheel for wget: filename=wget-3.2-cp36-none-any.whl size=9682 sha256=66fe752feff2c28f15781fb27c98c952fb05852a757fbdec1f10a8c6be2a2362\n",
            "  Stored in directory: /root/.cache/pip/wheels/40/15/30/7d8f7cea2902b4db79e3fea550d7d7b85ecb27ef992b618f3f\n",
            "Successfully built wget\n",
            "Installing collected packages: wget\n",
            "Successfully installed wget-3.2\n"
          ],
          "name": "stdout"
        }
      ]
    },
    {
      "cell_type": "code",
      "metadata": {
        "id": "kPLtE_J--1RK"
      },
      "source": [
        "# # Install the required libraries\n",
        "import tensorflow as tf\n",
        "\n",
        "import matplotlib.pyplot as plt\n",
        "import matplotlib.ticker as ticker\n",
        "from sklearn.model_selection import train_test_split\n",
        "\n",
        "import unicodedata\n",
        "import re\n",
        "import numpy as np\n",
        "import os\n",
        "import time\n",
        "import wget\n",
        "import nltk\n",
        "import warnings\n",
        "warnings.filterwarnings(\"ignore\")"
      ],
      "execution_count": 2,
      "outputs": []
    },
    {
      "cell_type": "code",
      "metadata": {
        "id": "4ScKliGo7VgF"
      },
      "source": [
        "# Downloading data from the network to the file system\n",
        "def load_txt_data():\n",
        "    print('Downloading dataset')\n",
        "    # data location address on the network | test\n",
        "    test_url = 'http://www.hlt.utdallas.edu/~vince/data/emnlp12/test.c.txt'\n",
        "    # Download the file, after checking its absence in the system\n",
        "    if not os.path.exists('./test.c.txt'):\n",
        "        wget.download(test_url, './test.c.txt')\n",
        "\n",
        "    # data location address on the network | train\n",
        "    train_url = 'http://www.hlt.utdallas.edu/~vince/data/emnlp12/train.c.txt'\n",
        "    # Download the file, after checking its absence in the system\n",
        "    if not os.path.exists('./train.c.txt'):\n",
        "        wget.download(train_url, './train.c.txt')\n",
        "        \n",
        "# loading data from the file system and their preprocessing\n",
        "def data_preprocessing():\n",
        "    # test\n",
        "    test_list_source_target_sents = []\n",
        "    with open(\"test.c.txt\", \"r\") as file:\n",
        "        for line in file:\n",
        "            test_list_source_target_sents.append(line.split(\"\\n\")[0])\n",
        "    \n",
        "    test_list_source_target_sents = list(filter(('').__ne__, test_list_source_target_sents))\n",
        "\n",
        "    # train\n",
        "    train_list_source_target_sents = []\n",
        "    with open(\"train.c.txt\", \"r\") as file:\n",
        "        for line in file:\n",
        "            train_list_source_target_sents.append(line.split(\"\\n\")[0])\n",
        "    \n",
        "    train_list_source_target_sents = list(filter(('').__ne__, train_list_source_target_sents))\n",
        "    \n",
        "    # Creation of a general corpus to create the vocabulary required for tokenization\n",
        "    list_source_target = train_list_source_target_sents + test_list_source_target_sents\n",
        "    \n",
        "    return list_source_target\n",
        "\n",
        "# Create pairs: source / target \n",
        "def pairs_source_target(list_source_target_sents):\n",
        "    list_source_sent = []\n",
        "    list_target_sent = []\n",
        "    util_target_list = []\n",
        "    separator = ', '\n",
        "\n",
        "    for indx in range(0, len(list_source_target_sents), 4):\n",
        "        \n",
        "        list_source_sent.append(list_source_target_sents[indx])\n",
        "        \n",
        "        util_target_list.append(list_source_target_sents[indx+1:indx+4])\n",
        "        util_target_list = separator.join(util_target_list[0])\n",
        "        \n",
        "        list_target_sent.append(util_target_list.replace(', ', ',').replace(',', ' '))\n",
        "        util_target_list = []\n",
        "        \n",
        "    return list_source_sent, list_target_sent\n",
        "\n",
        "# Convert unicode file to ascii\n",
        "def unicode_to_ascii(s):\n",
        "    return ''.join(c for c in unicodedata.normalize('NFD', s)\n",
        "        if unicodedata.category(c) != 'Mn')\n",
        "\n",
        "\n",
        "def preprocess_sentence(w):\n",
        "    w = unicode_to_ascii(w.lower().strip())\n",
        "\n",
        "    # create a space between the word and the punctuation mark\n",
        "    # example: \"He was a student.\" => \"he was a student .\"\n",
        "    # source:- https://stackoverflow.com/questions/3645931/python-padding-punctuation-with-white-spaces-keeping-punctuation\n",
        "    w = re.sub(r\"([?.!,¿])\", r\" \\1 \", w)\n",
        "    w = re.sub(r'[\" \"]+', \" \", w)\n",
        "\n",
        "    # replace everything with spaces except (a-z, A-Z, \".\", \"?\", \"!\", \",\") \n",
        "    w = re.sub(r\"[^a-zA-Z?.!,¿]+\", \" \", w)\n",
        "\n",
        "    w = w.strip()\n",
        "\n",
        "    # add the start and end tokens\n",
        "    # now the model will know where the prediction starts and ends\n",
        "    w = '<start> ' + w + ' <end>'\n",
        "    return w\n",
        "\n",
        "# create pairs in the format: [source, target]\n",
        "def create_dataset(source, target):\n",
        "\n",
        "    new_source = [[preprocess_sentence(s)] for s in source]\n",
        "    new_target = [[preprocess_sentence(t)] for t in target]\n",
        "    \n",
        "    return sum(new_source, []), sum(new_target, [])\n",
        "\n",
        "# Tokenizing words\n",
        "def tokenize(seq):\n",
        "    seq_tokenizer = tf.keras.preprocessing.text.Tokenizer(\n",
        "      filters='')\n",
        "    seq_tokenizer.fit_on_texts(seq)\n",
        "\n",
        "    tensor = seq_tokenizer.texts_to_sequences(seq)\n",
        "\n",
        "    tensor = tf.keras.preprocessing.sequence.pad_sequences(tensor,\n",
        "                                                         padding='post')\n",
        "\n",
        "    return tensor, seq_tokenizer\n",
        "\n",
        "# create the final data\n",
        "def load_dataset(source, target):\n",
        "    \n",
        "    inp_seq ,targ_seq = create_dataset(source, target)\n",
        "\n",
        "    input_tensor, inp_seq_tokenizer = tokenize(inp_seq)\n",
        "    target_tensor, targ_seq_tokenizer = tokenize(targ_seq)\n",
        "\n",
        "    return input_tensor, target_tensor, inp_seq_tokenizer, targ_seq_tokenizer\n",
        "\n",
        "# Index to word mapping\n",
        "def convert(seq, tensor):\n",
        "    for t in tensor:\n",
        "        if t!=0:\n",
        "            print (\"%d ----> %s\" % (t, seq.index_word[t]))\n",
        "            \n",
        "# Converting a tensor to a sentence\n",
        "def convert_str(seq, tensor):\n",
        "  empty_str = ''\n",
        "  for t in tensor:\n",
        "    if t!=0:\n",
        "      empty_str += seq.index_word[t] + ' '\n",
        "  empty_str = empty_str.replace('<start>', '')   \n",
        "  empty_str = empty_str.replace('<end>', '')\n",
        "  return empty_str\n",
        "\n",
        "# Function for assessing quality by BLEU metric on test data\n",
        "def BLEUscore_test(inp_sequence, targ_sequence, input_tensor, target_tensor):\n",
        "    accum_score = 0\n",
        "\n",
        "    for indx in range(len(input_tensor)):\n",
        "\n",
        "        predicted, _, _ = evaluate(convert_str(inp_sequence, input_tensor[indx]))\n",
        "        predicted = predicted.replace('<end>', '')\n",
        "        predicted = predicted.split(' ')\n",
        "        predicted = list(filter(('').__ne__, predicted))\n",
        "\n",
        "        targ_str = convert_str(targ_sequence, target_tensor[indx])\n",
        "        targ_str = targ_str.split(' ')\n",
        "        targ_str = list(filter(('').__ne__, targ_str))\n",
        "\n",
        "        accum_score += nltk.translate.bleu_score.sentence_bleu([targ_str], predicted)\n",
        "        \n",
        "\n",
        "    BLEUscore = accum_score / len(input_tensor)\n",
        "    return BLEUscore"
      ],
      "execution_count": 3,
      "outputs": []
    },
    {
      "cell_type": "code",
      "metadata": {
        "id": "hq5S_3X07Vut"
      },
      "source": [
        "# Implementing encoder\n",
        "class Encoder(tf.keras.Model):\n",
        "    def __init__(self, vocab_size, embedding_dim, enc_units, batch_sz):\n",
        "        super(Encoder, self).__init__()\n",
        "        self.batch_sz = batch_sz\n",
        "        self.enc_units = enc_units\n",
        "        self.embedding = tf.keras.layers.Embedding(vocab_size, embedding_dim)\n",
        "        self.gru = tf.keras.layers.GRU(self.enc_units,\n",
        "                                       return_sequences=True,\n",
        "                                       return_state=True,\n",
        "                                       recurrent_initializer='glorot_uniform')\n",
        "\n",
        "    def call(self, x, hidden):\n",
        "        x = self.embedding(x)\n",
        "        output, state = self.gru(x, initial_state = hidden)\n",
        "        return output, state\n",
        "\n",
        "    def initialize_hidden_state(self):\n",
        "        return tf.zeros((self.batch_sz, self.enc_units))\n",
        "\n",
        "# implement attention mechanism\n",
        "class Attention(tf.keras.layers.Layer):\n",
        "    def __init__(self, units):\n",
        "        super(Attention, self).__init__()\n",
        "        self.W1 = tf.keras.layers.Dense(units)\n",
        "        self.W2 = tf.keras.layers.Dense(units)\n",
        "        self.V = tf.keras.layers.Dense(1)\n",
        "\n",
        "    def call(self, query, values):\n",
        "        \n",
        "        query_with_time_axis = tf.expand_dims(query, 1)\n",
        "\n",
        "        score = self.V(tf.nn.tanh(\n",
        "            self.W1(query_with_time_axis) + self.W2(values)))\n",
        "\n",
        "        attention_weights = tf.nn.softmax(score, axis=1)\n",
        "\n",
        "        context_vector = attention_weights * values\n",
        "        context_vector = tf.reduce_sum(context_vector, axis=1)\n",
        "\n",
        "        return context_vector, attention_weights\n",
        "    \n",
        "# Implementing decoder\n",
        "class Decoder(tf.keras.Model):\n",
        "    def __init__(self, vocab_size, embedding_dim, dec_units, batch_sz):\n",
        "        super(Decoder, self).__init__()\n",
        "        self.batch_sz = batch_sz\n",
        "        self.dec_units = dec_units\n",
        "        self.embedding = tf.keras.layers.Embedding(vocab_size, embedding_dim)\n",
        "        self.gru = tf.keras.layers.GRU(self.dec_units,\n",
        "                                       return_sequences=True,\n",
        "                                       return_state=True,\n",
        "                                       recurrent_initializer='glorot_uniform')\n",
        "        self.fc = tf.keras.layers.Dense(vocab_size)\n",
        "\n",
        "        self.attention = Attention(self.dec_units)\n",
        "\n",
        "    def call(self, x, hidden, enc_output):\n",
        "        \n",
        "        context_vector, attention_weights = self.attention(hidden, enc_output)\n",
        "\n",
        "        x = self.embedding(x)\n",
        "\n",
        "        x = tf.concat([tf.expand_dims(context_vector, 1), x], axis=-1)\n",
        "\n",
        "        output, state = self.gru(x)\n",
        "\n",
        "        output = tf.reshape(output, (-1, output.shape[2]))\n",
        "\n",
        "        x = self.fc(output)\n",
        "\n",
        "        return x, state, attention_weights\n",
        "\n",
        "# loss function\n",
        "def loss_function(real, pred):\n",
        "    mask = tf.math.logical_not(tf.math.equal(real, 0))\n",
        "    loss_ = loss_object(real, pred)\n",
        "\n",
        "    mask = tf.cast(mask, dtype=loss_.dtype)\n",
        "    loss_ *= mask\n",
        "\n",
        "    return tf.reduce_mean(loss_)\n",
        "\n",
        "# The main function of training the model\n",
        "@tf.function\n",
        "def train_step(inp, targ, enc_hidden):\n",
        "    loss = 0\n",
        "\n",
        "    with tf.GradientTape() as tape:\n",
        "        enc_output, enc_hidden = encoder(inp, enc_hidden)\n",
        "\n",
        "        dec_hidden = enc_hidden\n",
        "\n",
        "        dec_input = tf.expand_dims([targ_seq.word_index['<start>']] * BATCH_SIZE, 1)\n",
        "\n",
        "        # передает цель в качестве следующего входного сигнала\n",
        "        for t in range(1, targ.shape[1]):\n",
        "            # передаем выход кодера в декодер\n",
        "            predictions, dec_hidden, _ = decoder(dec_input, dec_hidden, enc_output)\n",
        "\n",
        "            loss += loss_function(targ[:, t], predictions)\n",
        "\n",
        "            dec_input = tf.expand_dims(targ[:, t], 1)\n",
        "\n",
        "    batch_loss = (loss / int(targ.shape[1]))\n",
        "\n",
        "    variables = encoder.trainable_variables + decoder.trainable_variables\n",
        "\n",
        "    gradients = tape.gradient(loss, variables)\n",
        "\n",
        "    optimizer.apply_gradients(zip(gradients, variables))\n",
        "\n",
        "    return batch_loss\n",
        "\n",
        "# Predictions\n",
        "def evaluate(sentence):\n",
        "    attention_plot = np.zeros((max_length_targ, max_length_inp))\n",
        "\n",
        "    sentence = preprocess_sentence(sentence)\n",
        "\n",
        "    inputs = [inp_seq.word_index[i] for i in sentence.split(' ')]\n",
        "    inputs = tf.keras.preprocessing.sequence.pad_sequences([inputs],\n",
        "                                                            maxlen=max_length_inp,\n",
        "                                                            padding='post')\n",
        "    inputs = tf.convert_to_tensor(inputs)\n",
        "\n",
        "    result = ''\n",
        "\n",
        "    hidden = [tf.zeros((1, units))]\n",
        "    enc_out, enc_hidden = encoder(inputs, hidden)\n",
        "\n",
        "    dec_hidden = enc_hidden\n",
        "    dec_input = tf.expand_dims([targ_seq.word_index['<start>']], 0)\n",
        "\n",
        "    for t in range(max_length_targ):\n",
        "        predictions, dec_hidden, attention_weights = decoder(dec_input,\n",
        "                                                                dec_hidden,\n",
        "                                                                enc_out)\n",
        "\n",
        "        # saving attention weights for plotting\n",
        "        attention_weights = tf.reshape(attention_weights, (-1, ))\n",
        "        attention_plot[t] = attention_weights.numpy()\n",
        "\n",
        "        predicted_id = tf.argmax(predictions[0]).numpy()\n",
        "\n",
        "        result += targ_seq.index_word[predicted_id] + ' '\n",
        "\n",
        "        if targ_seq.index_word[predicted_id] == '<end>':\n",
        "            return result, sentence, attention_plot\n",
        "\n",
        "        # return the predicted index to the model\n",
        "        dec_input = tf.expand_dims([predicted_id], 0)\n",
        "\n",
        "    return result, sentence, attention_plot\n",
        "\n",
        "# Function for displaying attention weights\n",
        "def plot_attention(attention, sentence, predicted_sentence):\n",
        "    fig = plt.figure(figsize=(10,10))\n",
        "    ax = fig.add_subplot(1, 1, 1)\n",
        "    ax.matshow(attention, cmap='viridis')\n",
        "\n",
        "    fontdict = {'fontsize': 14}\n",
        "\n",
        "    ax.set_xticklabels([''] + sentence, fontdict=fontdict, rotation=90)\n",
        "    ax.set_yticklabels([''] + predicted_sentence, fontdict=fontdict)\n",
        "\n",
        "    ax.xaxis.set_major_locator(ticker.MultipleLocator(1))\n",
        "    ax.yaxis.set_major_locator(ticker.MultipleLocator(1))\n",
        "\n",
        "    plt.show()\n",
        "    \n",
        "# predicted sequence generation function\n",
        "def predict(sentence):\n",
        "    result, sentence, attention_plot = evaluate(sentence)\n",
        "\n",
        "    print('Input: %s' % (sentence))\n",
        "    print('Predicted: {}'.format(result))\n",
        "\n",
        "    attention_plot = attention_plot[:len(result.split(' ')), :len(sentence.split(' '))]\n",
        "    plot_attention(attention_plot, sentence.split(' '), result.split(' '))\n",
        "    return result"
      ],
      "execution_count": 4,
      "outputs": []
    },
    {
      "cell_type": "code",
      "metadata": {
        "id": "UIG8Fauo-udU",
        "outputId": "e43bf911-2eb4-4afd-e72d-61f7c6276cc5",
        "colab": {
          "base_uri": "https://localhost:8080/",
          "height": 34
        }
      },
      "source": [
        "# Downloading data from the network to the file system\n",
        "load_txt_data()"
      ],
      "execution_count": 5,
      "outputs": [
        {
          "output_type": "stream",
          "text": [
            "Downloading dataset\n"
          ],
          "name": "stdout"
        }
      ]
    },
    {
      "cell_type": "code",
      "metadata": {
        "id": "kqlYD8rS-1cD",
        "outputId": "171f5248-67ba-4069-b72b-ba0eadbf66a2",
        "colab": {
          "base_uri": "https://localhost:8080/",
          "height": 34
        }
      },
      "source": [
        "print(os.listdir())"
      ],
      "execution_count": 6,
      "outputs": [
        {
          "output_type": "stream",
          "text": [
            "['.config', 'train.c.txt', 'test.c.txt', 'sample_data']\n"
          ],
          "name": "stdout"
        }
      ]
    },
    {
      "cell_type": "code",
      "metadata": {
        "id": "mIasnVok-1e_",
        "outputId": "b1d8000b-63d8-40cf-8627-499a4b37b96b",
        "colab": {
          "base_uri": "https://localhost:8080/",
          "height": 34
        }
      },
      "source": [
        "# loading data from the file system and their preprocessing\n",
        "list_source_target_sents = data_preprocessing()\n",
        "len(list_source_target_sents)"
      ],
      "execution_count": 7,
      "outputs": [
        {
          "output_type": "execute_result",
          "data": {
            "text/plain": [
              "7544"
            ]
          },
          "metadata": {
            "tags": []
          },
          "execution_count": 7
        }
      ]
    },
    {
      "cell_type": "code",
      "metadata": {
        "id": "qK7KCTZ1-1h1",
        "outputId": "a70edfb5-58e7-40d7-be5d-69ff46060cd0",
        "colab": {
          "base_uri": "https://localhost:8080/",
          "height": 52
        }
      },
      "source": [
        "# Create pairs: source / target \n",
        "list_source_sent, list_target_sent = pairs_source_target(list_source_target_sents) \n",
        "list_source_sent[5], list_target_sent[5]"
      ],
      "execution_count": 8,
      "outputs": [
        {
          "output_type": "execute_result",
          "data": {
            "text/plain": [
              "('The bus driver yelled at a kid after she broke a window.',\n",
              " 'she The bus driver a kid a kid')"
            ]
          },
          "metadata": {
            "tags": []
          },
          "execution_count": 8
        }
      ]
    },
    {
      "cell_type": "code",
      "metadata": {
        "id": "VtDVavCtCzu8"
      },
      "source": [
        "# Let's create pairs in the format: [source, target]\n",
        "source_list, target_list = create_dataset(list_source_sent, list_target_sent)"
      ],
      "execution_count": 9,
      "outputs": []
    },
    {
      "cell_type": "code",
      "metadata": {
        "id": "TxnfqVhFCzxs",
        "outputId": "3fb237ad-49c9-47dc-93d6-717f8ad04e46",
        "colab": {
          "base_uri": "https://localhost:8080/",
          "height": 52
        }
      },
      "source": [
        "source_list[0], target_list[0]"
      ],
      "execution_count": 10,
      "outputs": [
        {
          "output_type": "execute_result",
          "data": {
            "text/plain": [
              "('<start> the bee landed on the flower because it had pollen . <end>',\n",
              " '<start> it the bee the flower the flower <end>')"
            ]
          },
          "metadata": {
            "tags": []
          },
          "execution_count": 10
        }
      ]
    },
    {
      "cell_type": "code",
      "metadata": {
        "id": "MsLnRCgbE8sX"
      },
      "source": [
        "# Let's create the final data and see the sample data\n",
        "input_tensor, target_tensor, inp_seq, targ_seq = load_dataset(list_source_sent, list_target_sent)\n",
        "\n",
        "# Let's see the maximum length of tensors\n",
        "max_length_targ, max_length_inp = target_tensor.shape[1], input_tensor.shape[1]"
      ],
      "execution_count": 11,
      "outputs": []
    },
    {
      "cell_type": "code",
      "metadata": {
        "id": "KOLNgC5HE8vM",
        "outputId": "62f976bd-cbf0-4859-e583-10ca017f741b",
        "colab": {
          "base_uri": "https://localhost:8080/",
          "height": 121
        }
      },
      "source": [
        "input_tensor[0], target_tensor[0]"
      ],
      "execution_count": 12,
      "outputs": [
        {
          "output_type": "execute_result",
          "data": {
            "text/plain": [
              "(array([   3,    1, 1471, 1472,   28,    1, 1473,    6,   15,   30, 1474,\n",
              "           2,    4,    0,    0,    0,    0,    0,    0,    0,    0,    0,\n",
              "           0,    0,    0,    0,    0,    0,    0,    0,    0,    0,    0,\n",
              "           0,    0,    0,    0,    0,    0], dtype=int32),\n",
              " array([  2,   6,   1, 425,   1, 426,   1, 426,   3,   0,   0,   0,   0,\n",
              "          0,   0,   0,   0,   0,   0,   0], dtype=int32))"
            ]
          },
          "metadata": {
            "tags": []
          },
          "execution_count": 12
        }
      ]
    },
    {
      "cell_type": "code",
      "metadata": {
        "id": "1FNOnhcyE8yS",
        "outputId": "5364fd1b-5cc8-4b13-c2ac-ed36bf30f7a8",
        "colab": {
          "base_uri": "https://localhost:8080/",
          "height": 34
        }
      },
      "source": [
        "max_length_targ, max_length_inp"
      ],
      "execution_count": 13,
      "outputs": [
        {
          "output_type": "execute_result",
          "data": {
            "text/plain": [
              "(20, 39)"
            ]
          },
          "metadata": {
            "tags": []
          },
          "execution_count": 13
        }
      ]
    },
    {
      "cell_type": "code",
      "metadata": {
        "id": "1BJk2VqkGYhh",
        "outputId": "ffe8a7f4-1251-4093-9971-9b5b29d0bd04",
        "colab": {
          "base_uri": "https://localhost:8080/",
          "height": 449
        }
      },
      "source": [
        "# Map indices to words\n",
        "print (\"Input sequence; index to word mapping\")\n",
        "convert(inp_seq, input_tensor[0])\n",
        "print ()\n",
        "print (\"Target sequence; index to word mapping\")\n",
        "convert(targ_seq, target_tensor[0])"
      ],
      "execution_count": 14,
      "outputs": [
        {
          "output_type": "stream",
          "text": [
            "Input sequence; index to word mapping\n",
            "3 ----> <start>\n",
            "1 ----> the\n",
            "1471 ----> bee\n",
            "1472 ----> landed\n",
            "28 ----> on\n",
            "1 ----> the\n",
            "1473 ----> flower\n",
            "6 ----> because\n",
            "15 ----> it\n",
            "30 ----> had\n",
            "1474 ----> pollen\n",
            "2 ----> .\n",
            "4 ----> <end>\n",
            "\n",
            "Target sequence; index to word mapping\n",
            "2 ----> <start>\n",
            "6 ----> it\n",
            "1 ----> the\n",
            "425 ----> bee\n",
            "1 ----> the\n",
            "426 ----> flower\n",
            "1 ----> the\n",
            "426 ----> flower\n",
            "3 ----> <end>\n"
          ],
          "name": "stdout"
        }
      ]
    },
    {
      "cell_type": "code",
      "metadata": {
        "id": "BBXxPvH2GYug",
        "outputId": "b2430cb3-6be2-4297-cbb1-50d513c55ae7",
        "colab": {
          "base_uri": "https://localhost:8080/",
          "height": 34
        }
      },
      "source": [
        "# Let's create training and test datasets\n",
        "input_tensor_train, input_tensor_val, target_tensor_train, target_tensor_val = train_test_split(\n",
        "    input_tensor, target_tensor, test_size=0.1)\n",
        "\n",
        "# Let's see the dimensions\n",
        "print(len(input_tensor_train), len(target_tensor_train), len(input_tensor_val), len(target_tensor_val))"
      ],
      "execution_count": 15,
      "outputs": [
        {
          "output_type": "stream",
          "text": [
            "1697 1697 189 189\n"
          ],
          "name": "stdout"
        }
      ]
    },
    {
      "cell_type": "code",
      "metadata": {
        "id": "8groC7P-GYxU",
        "outputId": "adf05411-4e4b-4aac-931c-6ecb7ad963ee",
        "colab": {
          "base_uri": "https://localhost:8080/",
          "height": 86
        }
      },
      "source": [
        "input_tensor_val[0]"
      ],
      "execution_count": 16,
      "outputs": [
        {
          "output_type": "execute_result",
          "data": {
            "text/plain": [
              "array([   3,  647,  782,  385, 1353,   18,   20,  222,  964,   16,    7,\n",
              "         69,   49,    5,  626, 1401,   34,   49,    2,    4,    0,    0,\n",
              "          0,    0,    0,    0,    0,    0,    0,    0,    0,    0,    0,\n",
              "          0,    0,    0,    0,    0,    0], dtype=int32)"
            ]
          },
          "metadata": {
            "tags": []
          },
          "execution_count": 16
        }
      ]
    },
    {
      "cell_type": "code",
      "metadata": {
        "id": "J2FoXIWzGY0A",
        "outputId": "dbd2ce1a-a479-467a-fe2a-94da68da6f11",
        "colab": {
          "base_uri": "https://localhost:8080/",
          "height": 52
        }
      },
      "source": [
        "target_tensor_val[0]"
      ],
      "execution_count": 17,
      "outputs": [
        {
          "output_type": "execute_result",
          "data": {
            "text/plain": [
              "array([   2,    4,  191,  331,   13, 1007,  296,  191,  331,    3,    0,\n",
              "          0,    0,    0,    0,    0,    0,    0,    0,    0], dtype=int32)"
            ]
          },
          "metadata": {
            "tags": []
          },
          "execution_count": 17
        }
      ]
    },
    {
      "cell_type": "code",
      "metadata": {
        "id": "SYfFvPT_GY26",
        "outputId": "a4ca7dbf-6304-477a-cd0a-50d88bbd1391",
        "colab": {
          "base_uri": "https://localhost:8080/",
          "height": 34
        }
      },
      "source": [
        "# Convert a tensor to a sentence\n",
        "conv_str = convert_str(inp_seq, input_tensor_val[0])\n",
        "conv_str"
      ],
      "execution_count": 18,
      "outputs": [
        {
          "output_type": "execute_result",
          "data": {
            "application/vnd.google.colaboratory.intrinsic+json": {
              "type": "string"
            },
            "text/plain": [
              "' american airlines offers upgrades for their preferred passengers since they want them to continue flying with them .  '"
            ]
          },
          "metadata": {
            "tags": []
          },
          "execution_count": 18
        }
      ]
    },
    {
      "cell_type": "code",
      "metadata": {
        "id": "r2OYzzVZE81N"
      },
      "source": [
        "# Create tf.data dataset and hyperparameters\n",
        "BUFFER_SIZE = len(input_tensor_train)\n",
        "BATCH_SIZE = 16\n",
        "steps_per_epoch = len(input_tensor_train)//BATCH_SIZE\n",
        "embedding_dim = 256\n",
        "units = 1024\n",
        "attention_units = 10\n",
        "vocab_inp_size = len(inp_seq.word_index)+1\n",
        "vocab_tar_size = len(targ_seq.word_index)+1\n",
        "\n",
        "dataset = tf.data.Dataset.from_tensor_slices((input_tensor_train, target_tensor_train)).shuffle(BUFFER_SIZE)\n",
        "dataset = dataset.batch(BATCH_SIZE, drop_remainder=True)"
      ],
      "execution_count": 19,
      "outputs": []
    },
    {
      "cell_type": "code",
      "metadata": {
        "id": "FoLCSQyxHW0N",
        "outputId": "781f6b68-3dd6-4e17-9d1d-4369d2e5b206",
        "colab": {
          "base_uri": "https://localhost:8080/",
          "height": 34
        }
      },
      "source": [
        "example_input_batch, example_target_batch = next(iter(dataset))\n",
        "example_input_batch.shape, example_target_batch.shape"
      ],
      "execution_count": 20,
      "outputs": [
        {
          "output_type": "execute_result",
          "data": {
            "text/plain": [
              "(TensorShape([16, 39]), TensorShape([16, 20]))"
            ]
          },
          "metadata": {
            "tags": []
          },
          "execution_count": 20
        }
      ]
    },
    {
      "cell_type": "code",
      "metadata": {
        "id": "36jyXq6mHW23",
        "outputId": "b4892435-29c6-430b-97dd-c96f4b1c55ff",
        "colab": {
          "base_uri": "https://localhost:8080/",
          "height": 52
        }
      },
      "source": [
        "# Initializing the encoder\n",
        "encoder = Encoder(vocab_inp_size, embedding_dim, units, BATCH_SIZE)\n",
        "\n",
        "# Encoder Output and Hidden State Sizes\n",
        "sample_hidden = encoder.initialize_hidden_state()\n",
        "sample_output, sample_hidden = encoder(example_input_batch, sample_hidden)\n",
        "print ('Encoder output shape: (batch size, sequence length, units) {}'.format(sample_output.shape))\n",
        "print ('Encoder Hidden state shape: (batch size, units) {}'.format(sample_hidden.shape))"
      ],
      "execution_count": 21,
      "outputs": [
        {
          "output_type": "stream",
          "text": [
            "Encoder output shape: (batch size, sequence length, units) (16, 39, 1024)\n",
            "Encoder Hidden state shape: (batch size, units) (16, 1024)\n"
          ],
          "name": "stdout"
        }
      ]
    },
    {
      "cell_type": "code",
      "metadata": {
        "id": "qUnUyfW-HW6G",
        "outputId": "b3396649-d70d-4f97-97c1-420c10b0bc9b",
        "colab": {
          "base_uri": "https://localhost:8080/",
          "height": 52
        }
      },
      "source": [
        "# Initializing Attention\n",
        "attention_layer = Attention(attention_units)\n",
        "attention_result, attention_weights = attention_layer(sample_hidden, sample_output)\n",
        "\n",
        "print(\"Attention result shape: (batch size, units) {}\".format(attention_result.shape))\n",
        "print(\"Attention weights shape: (batch_size, sequence_length, 1) {}\".format(attention_weights.shape))"
      ],
      "execution_count": 22,
      "outputs": [
        {
          "output_type": "stream",
          "text": [
            "Attention result shape: (batch size, units) (16, 1024)\n",
            "Attention weights shape: (batch_size, sequence_length, 1) (16, 39, 1)\n"
          ],
          "name": "stdout"
        }
      ]
    },
    {
      "cell_type": "code",
      "metadata": {
        "id": "A5xGHj2jIj7Z",
        "outputId": "3d51c1ce-7385-4a9b-cd6a-1fa71ef92558",
        "colab": {
          "base_uri": "https://localhost:8080/",
          "height": 34
        }
      },
      "source": [
        "# decoder initialization\n",
        "decoder = Decoder(vocab_tar_size, embedding_dim, units, BATCH_SIZE)\n",
        "\n",
        "sample_decoder_output, _, _ = decoder(tf.random.uniform((BATCH_SIZE, 1)),\n",
        "                                      sample_hidden, sample_output)\n",
        "\n",
        "print ('Decoder output shape: (batch_size, vocab size) {}'.format(sample_decoder_output.shape))"
      ],
      "execution_count": 23,
      "outputs": [
        {
          "output_type": "stream",
          "text": [
            "Decoder output shape: (batch_size, vocab size) (16, 1448)\n"
          ],
          "name": "stdout"
        }
      ]
    },
    {
      "cell_type": "code",
      "metadata": {
        "id": "hkezaSpvIj-F"
      },
      "source": [
        "# Defining an optimizer and a loss function\n",
        "learning_rate=0.001  # 0.00025\n",
        "optimizer = tf.keras.optimizers.Adam(learning_rate=learning_rate)\n",
        "\n",
        "loss_object = tf.keras.losses.SparseCategoricalCrossentropy(\n",
        "    from_logits=True, reduction='none')"
      ],
      "execution_count": 24,
      "outputs": []
    },
    {
      "cell_type": "code",
      "metadata": {
        "id": "BzAemxag-nhF"
      },
      "source": [
        "# Save model breakpoints\n",
        "checkpoint_dir = './training_checkpoints'\n",
        "checkpoint_prefix = os.path.join(checkpoint_dir, \"ckpt\")\n",
        "checkpoint = tf.train.Checkpoint(optimizer=optimizer,\n",
        "                                 encoder=encoder,\n",
        "                                 decoder=decoder)"
      ],
      "execution_count": 25,
      "outputs": []
    },
    {
      "cell_type": "code",
      "metadata": {
        "id": "vsTvbBOz-nnd",
        "outputId": "91c6f7d3-d69e-4270-a546-36a35b541fb6",
        "colab": {
          "base_uri": "https://localhost:8080/",
          "height": 1000
        }
      },
      "source": [
        "# Model training\n",
        "EPOCHS = 20 \n",
        "\n",
        "for epoch in range(EPOCHS):\n",
        "    start = time.time()\n",
        "\n",
        "    enc_hidden = encoder.initialize_hidden_state()\n",
        "    total_loss = 0\n",
        "\n",
        "    for (batch, (inp, targ)) in enumerate(dataset.take(steps_per_epoch)):\n",
        "    \n",
        "        batch_loss = train_step(inp, targ, enc_hidden)\n",
        "        total_loss += batch_loss\n",
        "\n",
        "        if batch % 50 == 0:\n",
        "            print('Epoch {} Batch {} Loss {:.4f}'.format(epoch + 1,\n",
        "                                                       batch,\n",
        "                                                       batch_loss.numpy()))\n",
        "    # Save the model every 10 epochs\n",
        "    if (epoch + 1) % 10 == 0:\n",
        "        checkpoint.save(file_prefix = checkpoint_prefix)\n",
        "\n",
        "    print('Epoch {} Loss {:.4f}'.format(epoch + 1,\n",
        "                                      total_loss / steps_per_epoch))\n",
        "    print('Time taken for 1 epoch {} sec\\n'.format(time.time() - start))"
      ],
      "execution_count": 26,
      "outputs": [
        {
          "output_type": "stream",
          "text": [
            "Epoch 1 Batch 0 Loss 2.5930\n",
            "Epoch 1 Batch 50 Loss 1.6661\n",
            "Epoch 1 Batch 100 Loss 1.9174\n",
            "Epoch 1 Loss 1.9136\n",
            "Time taken for 1 epoch 30.580141305923462 sec\n",
            "\n",
            "Epoch 2 Batch 0 Loss 1.9409\n",
            "Epoch 2 Batch 50 Loss 1.6198\n",
            "Epoch 2 Batch 100 Loss 1.6115\n",
            "Epoch 2 Loss 1.6077\n",
            "Time taken for 1 epoch 10.55054259300232 sec\n",
            "\n",
            "Epoch 3 Batch 0 Loss 1.4998\n",
            "Epoch 3 Batch 50 Loss 1.5297\n",
            "Epoch 3 Batch 100 Loss 1.1268\n",
            "Epoch 3 Loss 1.4570\n",
            "Time taken for 1 epoch 10.55422830581665 sec\n",
            "\n",
            "Epoch 4 Batch 0 Loss 1.3206\n",
            "Epoch 4 Batch 50 Loss 1.4371\n",
            "Epoch 4 Batch 100 Loss 1.3977\n",
            "Epoch 4 Loss 1.3092\n",
            "Time taken for 1 epoch 10.57076120376587 sec\n",
            "\n",
            "Epoch 5 Batch 0 Loss 1.2863\n",
            "Epoch 5 Batch 50 Loss 1.0349\n",
            "Epoch 5 Batch 100 Loss 1.0870\n",
            "Epoch 5 Loss 1.1324\n",
            "Time taken for 1 epoch 10.53599238395691 sec\n",
            "\n",
            "Epoch 6 Batch 0 Loss 0.9178\n",
            "Epoch 6 Batch 50 Loss 0.8523\n",
            "Epoch 6 Batch 100 Loss 0.9572\n",
            "Epoch 6 Loss 0.9724\n",
            "Time taken for 1 epoch 10.702862739562988 sec\n",
            "\n",
            "Epoch 7 Batch 0 Loss 0.8853\n",
            "Epoch 7 Batch 50 Loss 0.8313\n",
            "Epoch 7 Batch 100 Loss 0.8268\n",
            "Epoch 7 Loss 0.7911\n",
            "Time taken for 1 epoch 10.605621099472046 sec\n",
            "\n",
            "Epoch 8 Batch 0 Loss 0.6733\n",
            "Epoch 8 Batch 50 Loss 0.6241\n",
            "Epoch 8 Batch 100 Loss 0.5157\n",
            "Epoch 8 Loss 0.6063\n",
            "Time taken for 1 epoch 10.61151123046875 sec\n",
            "\n",
            "Epoch 9 Batch 0 Loss 0.3337\n",
            "Epoch 9 Batch 50 Loss 0.4611\n",
            "Epoch 9 Batch 100 Loss 0.4219\n",
            "Epoch 9 Loss 0.4422\n",
            "Time taken for 1 epoch 10.608493328094482 sec\n",
            "\n",
            "Epoch 10 Batch 0 Loss 0.3278\n",
            "Epoch 10 Batch 50 Loss 0.2433\n",
            "Epoch 10 Batch 100 Loss 0.2850\n",
            "Epoch 10 Loss 0.3292\n",
            "Time taken for 1 epoch 11.04995059967041 sec\n",
            "\n",
            "Epoch 11 Batch 0 Loss 0.2664\n",
            "Epoch 11 Batch 50 Loss 0.2187\n",
            "Epoch 11 Batch 100 Loss 0.2258\n",
            "Epoch 11 Loss 0.2471\n",
            "Time taken for 1 epoch 10.586143970489502 sec\n",
            "\n",
            "Epoch 12 Batch 0 Loss 0.1402\n",
            "Epoch 12 Batch 50 Loss 0.1579\n",
            "Epoch 12 Batch 100 Loss 0.2193\n",
            "Epoch 12 Loss 0.1833\n",
            "Time taken for 1 epoch 10.494807958602905 sec\n",
            "\n",
            "Epoch 13 Batch 0 Loss 0.0958\n",
            "Epoch 13 Batch 50 Loss 0.1281\n",
            "Epoch 13 Batch 100 Loss 0.1461\n",
            "Epoch 13 Loss 0.1445\n",
            "Time taken for 1 epoch 10.540653944015503 sec\n",
            "\n",
            "Epoch 14 Batch 0 Loss 0.0935\n",
            "Epoch 14 Batch 50 Loss 0.1035\n",
            "Epoch 14 Batch 100 Loss 0.1545\n",
            "Epoch 14 Loss 0.1168\n",
            "Time taken for 1 epoch 10.564374446868896 sec\n",
            "\n",
            "Epoch 15 Batch 0 Loss 0.0771\n",
            "Epoch 15 Batch 50 Loss 0.1410\n",
            "Epoch 15 Batch 100 Loss 0.1098\n",
            "Epoch 15 Loss 0.0954\n",
            "Time taken for 1 epoch 10.55153512954712 sec\n",
            "\n",
            "Epoch 16 Batch 0 Loss 0.0583\n",
            "Epoch 16 Batch 50 Loss 0.0267\n",
            "Epoch 16 Batch 100 Loss 0.0458\n",
            "Epoch 16 Loss 0.0678\n",
            "Time taken for 1 epoch 10.558472156524658 sec\n",
            "\n",
            "Epoch 17 Batch 0 Loss 0.0539\n",
            "Epoch 17 Batch 50 Loss 0.0564\n",
            "Epoch 17 Batch 100 Loss 0.0581\n",
            "Epoch 17 Loss 0.0587\n",
            "Time taken for 1 epoch 10.550416707992554 sec\n",
            "\n",
            "Epoch 18 Batch 0 Loss 0.0251\n",
            "Epoch 18 Batch 50 Loss 0.0289\n",
            "Epoch 18 Batch 100 Loss 0.0778\n",
            "Epoch 18 Loss 0.0475\n",
            "Time taken for 1 epoch 10.589985370635986 sec\n",
            "\n",
            "Epoch 19 Batch 0 Loss 0.0231\n",
            "Epoch 19 Batch 50 Loss 0.1042\n",
            "Epoch 19 Batch 100 Loss 0.0639\n",
            "Epoch 19 Loss 0.0386\n",
            "Time taken for 1 epoch 10.646358489990234 sec\n",
            "\n",
            "Epoch 20 Batch 0 Loss 0.0192\n",
            "Epoch 20 Batch 50 Loss 0.0352\n",
            "Epoch 20 Batch 100 Loss 0.0298\n",
            "Epoch 20 Loss 0.0348\n",
            "Time taken for 1 epoch 10.908897876739502 sec\n",
            "\n"
          ],
          "name": "stdout"
        }
      ]
    },
    {
      "cell_type": "code",
      "metadata": {
        "id": "24PJA4hu-ntv"
      },
      "source": [
        "# Restoring the last checkpoint\n",
        "checkpoint.restore(tf.train.latest_checkpoint(checkpoint_dir))"
      ],
      "execution_count": null,
      "outputs": []
    },
    {
      "cell_type": "code",
      "metadata": {
        "id": "-qeJgaf8IkA2",
        "outputId": "4c7007b0-8662-43db-ddf7-fbc1e7bdf669",
        "colab": {
          "base_uri": "https://localhost:8080/",
          "height": 470
        }
      },
      "source": [
        "# Correct sequence of 2nd, 3rd, 4th lines:\n",
        "# they\n",
        "# Lions,zebras\n",
        "# zebras\n",
        "predicted = predict(u\"Lions eat zebras because they are meaty.\")"
      ],
      "execution_count": 27,
      "outputs": [
        {
          "output_type": "stream",
          "text": [
            "Input: <start> lions eat zebras because they are meaty . <end>\n",
            "Predicted: they lions zebras zebras <end> \n"
          ],
          "name": "stdout"
        },
        {
          "output_type": "display_data",
          "data": {
            "image/png": "[encoded data removed]",
            "text/plain": [
              "<Figure size 720x720 with 1 Axes>"
            ]
          },
          "metadata": {
            "tags": [],
            "needs_background": "light"
          }
        }
      ]
    },
    {
      "cell_type": "code",
      "metadata": {
        "id": "jSF2zsVbB7Q7",
        "outputId": "a3742c12-019b-4bf0-f849-266360c5eef3",
        "colab": {
          "base_uri": "https://localhost:8080/",
          "height": 475
        }
      },
      "source": [
        "predicted = predict(u\"John hired Bill because he needed someone.\")"
      ],
      "execution_count": 28,
      "outputs": [
        {
          "output_type": "stream",
          "text": [
            "Input: <start> john hired bill because he needed someone . <end>\n",
            "Predicted: he john bill john <end> \n"
          ],
          "name": "stdout"
        },
        {
          "output_type": "display_data",
          "data": {
            "image/png": "[encoded data removed]",
            "text/plain": [
              "<Figure size 720x720 with 1 Axes>"
            ]
          },
          "metadata": {
            "tags": [],
            "needs_background": "light"
          }
        }
      ]
    },
    {
      "cell_type": "code",
      "metadata": {
        "id": "C1HVn42KB7Vu",
        "outputId": "855be78a-249c-479f-a031-16d37f31260c",
        "colab": {
          "base_uri": "https://localhost:8080/",
          "height": 491
        }
      },
      "source": [
        "print(f'True target: {convert_str(targ_seq, target_tensor_val[55])}')\n",
        "predicted = predict(convert_str(inp_seq, input_tensor_val[55]))"
      ],
      "execution_count": 29,
      "outputs": [
        {
          "output_type": "stream",
          "text": [
            "True target:  they monkeys lions lions  \n",
            "Input: <start> monkeys hate lions because they are scary . <end>\n",
            "Predicted: they monkeys lions monkeys <end> \n"
          ],
          "name": "stdout"
        },
        {
          "output_type": "display_data",
          "data": {
            "image/png": "[encoded data removed]",
            "text/plain": [
              "<Figure size 720x720 with 1 Axes>"
            ]
          },
          "metadata": {
            "tags": [],
            "needs_background": "light"
          }
        }
      ]
    },
    {
      "cell_type": "code",
      "metadata": {
        "id": "MFw3UObqB7cv",
        "outputId": "0ed44a90-6307-45d3-f782-af6075843c15",
        "colab": {
          "base_uri": "https://localhost:8080/",
          "height": 34
        }
      },
      "source": [
        "# The quality of the model's performance on test data that the model has never seen\n",
        "BLEU = BLEUscore_test(inp_seq, targ_seq, input_tensor_val, target_tensor_val)\n",
        "print(f'BLEU Score = {BLEU}')"
      ],
      "execution_count": 30,
      "outputs": [
        {
          "output_type": "stream",
          "text": [
            "BLEU Score = 0.6541912640877456\n"
          ],
          "name": "stdout"
        }
      ]
    }
  ]
}